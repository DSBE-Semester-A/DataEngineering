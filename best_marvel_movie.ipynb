{
 "cells": [
  {
   "cell_type": "markdown",
   "id": "4336a42b-c49e-4f89-a256-e398f8918864",
   "metadata": {},
   "source": [
    "# Start Spark Session & Import data form Google Cloud Bucket"
   ]
  },
  {
   "cell_type": "code",
   "execution_count": 1,
   "id": "d80fb863-c3a9-4d25-b4a0-4da22aeead7a",
   "metadata": {},
   "outputs": [
    {
     "name": "stdout",
     "output_type": "stream",
     "text": [
      "root\n",
      " |-- Title: string (nullable = true)\n",
      " |-- Distributor: string (nullable = true)\n",
      " |-- ReleaseDateUS: string (nullable = true)\n",
      " |-- Budget: string (nullable = true)\n",
      " |-- OpeningWeekendNorthAmerica: string (nullable = true)\n",
      " |-- NorthAmerica: string (nullable = true)\n",
      " |-- OtherTerritories: string (nullable = true)\n",
      " |-- Worldwide: string (nullable = true)\n",
      "\n",
      "+--------------------+\n",
      "|               Title|\n",
      "+--------------------+\n",
      "|     Howard the Duck|\n",
      "|               Blade|\n",
      "|               X-Men|\n",
      "|            Blade II|\n",
      "|          Spider-Man|\n",
      "|           Daredevil|\n",
      "|                  X2|\n",
      "|                Hulk|\n",
      "|        The Punisher|\n",
      "|        Spider-Man 2|\n",
      "|      Blade: Trinity|\n",
      "|             Elektra|\n",
      "|      Fantastic Four|\n",
      "|X-Men: The Last S...|\n",
      "|         Ghost Rider|\n",
      "|        Spider-Man 3|\n",
      "|Fantastic Four: R...|\n",
      "|            Iron Man|\n",
      "| The Incredible Hulk|\n",
      "|  Punisher: War Zone|\n",
      "+--------------------+\n",
      "only showing top 20 rows\n",
      "\n",
      "+--------------------+------------------+-------------------+---------+--------------------------+------------+----------------+---------+\n",
      "|               Title|       Distributor|      ReleaseDateUS|   Budget|OpeningWeekendNorthAmerica|NorthAmerica|OtherTerritories|Worldwide|\n",
      "+--------------------+------------------+-------------------+---------+--------------------------+------------+----------------+---------+\n",
      "|     Howard the Duck|Universal Pictures|1986-08-01 00:00:00| 37000000|                   5070136|    16295774|        21667000| 37962774|\n",
      "|               Blade|   New Line Cinema|1998-08-21 00:00:00| 45000000|                  17073856|    70087718|        61095812|131183530|\n",
      "|               X-Men|  20th Century Fox|2000-07-14 00:00:00| 75000000|                  54471475|   157299717|       139039810|296339527|\n",
      "|            Blade II|   New Line Cinema|2002-03-22 00:00:00| 54000000|                  32528016|    82348319|        72661713|155010032|\n",
      "|          Spider-Man|     Sony Pictures|2002-05-03 00:00:00|139000000|                 114844116|   403706375|       418002176|821708551|\n",
      "|           Daredevil|  20th Century Fox|2003-02-14 00:00:00| 78000000|                  40310419|   102543518|        76636200|179179718|\n",
      "|                  X2|  20th Century Fox|2003-05-02 00:00:00|110000000|                  85558731|   214949694|       192761855|407711549|\n",
      "|                Hulk|Universal Pictures|2003-06-20 00:00:00|137000000|                  62128420|   132177234|       113183246|245360480|\n",
      "|        The Punisher|   Lionsgate Films|2004-04-16 00:00:00| 33000000|                  13834527|    33810189|        20889916| 54700105|\n",
      "|        Spider-Man 2|     Sony Pictures|2004-06-30 00:00:00|200000000|                  88156227|   373585825|       415390628|788976453|\n",
      "|      Blade: Trinity|   New Line Cinema|2004-12-08 00:00:00| 65000000|                  16061271|    52411906|        76493460|128905366|\n",
      "|             Elektra|  20th Century Fox|2005-01-14 00:00:00| 43000000|                  12804793|    24409722|        32271844| 56681566|\n",
      "|      Fantastic Four|  20th Century Fox|2005-07-08 00:00:00|100000000|                  56061504|   154696080|       175883639|330579719|\n",
      "|X-Men: The Last S...|  20th Century Fox|2006-05-26 00:00:00|210000000|                 102750665|   234362462|       224997093|459359555|\n",
      "|         Ghost Rider|     Sony Pictures|2007-02-16 00:00:00|110000000|                  45388836|   115802596|       112935797|228738393|\n",
      "|        Spider-Man 3|     Sony Pictures|2007-05-04 00:00:00|258000000|                 151116516|   336530303|       554341323|890871626|\n",
      "|Fantastic Four: R...|  20th Century Fox|2007-06-15 00:00:00|130000000|                  58051684|   131921738|       169991393|301913131|\n",
      "|            Iron Man|Paramount Pictures|2008-05-02 00:00:00|140000000|                  98618668|   318412101|       266762121|585174222|\n",
      "| The Incredible Hulk|Universal Pictures|2008-06-13 00:00:00|150000000|                  55414050|   134806913|       128620638|263427551|\n",
      "|  Punisher: War Zone|   Lionsgate Films|2008-12-05 00:00:00| 35000000|                   4271451|     8050977|         2049059| 10100036|\n",
      "+--------------------+------------------+-------------------+---------+--------------------------+------------+----------------+---------+\n",
      "only showing top 20 rows\n",
      "\n"
     ]
    }
   ],
   "source": [
    "from pyspark.sql import SparkSession\n",
    "from pyspark import SparkConf\n",
    "\n",
    "sparkConf = SparkConf()\n",
    "sparkConf.setMaster(\"spark://spark-master:7077\")\n",
    "sparkConf.setAppName(\"GCSMarvel\")\n",
    "sparkConf.set(\"spark.driver.memory\", \"2g\")\n",
    "sparkConf.set(\"spark.executor.cores\", \"1\")\n",
    "sparkConf.set(\"spark.driver.cores\", \"1\")\n",
    "# create the spark session, which is the entry point to Spark SQL engine.\n",
    "spark = SparkSession.builder.config(conf=sparkConf).getOrCreate()\n",
    "\n",
    "# Setup hadoop fs configuration for schema gs://\n",
    "conf = spark.sparkContext._jsc.hadoopConfiguration()\n",
    "conf.set(\"fs.gs.impl\", \"com.google.cloud.hadoop.fs.gcs.GoogleHadoopFileSystem\")\n",
    "conf.set(\"fs.AbstractFileSystem.gs.impl\", \"com.google.cloud.hadoop.fs.gcs.GoogleHadoopFS\")\n",
    "\n",
    "#  Google Storage File Path\n",
    "#  use your gcp bucket name. Also upload marvel.csv first\n",
    "gsc_file_path_mc = 'gs://marvel_data_onno/marvel_clean.csv'\n",
    "gsc_file_path_rc = 'gs://marvel_data_onno/marvel_reviews_clean.csv'\n",
    "# Create data frames\n",
    "marvelcleanDF = spark.read.format(\"csv\").option(\"header\", \"true\") \\\n",
    "       .load(gsc_file_path_mc)\n",
    "marvelcleanDF.printSchema()\n",
    "\n",
    "reviewscleanDF = spark.read.format(\"csv\").option(\"header\", \"true\") \\\n",
    "       .load(gsc_file_path_rc)\n",
    "\n",
    "newDf = marvelcleanDF.select('Title')  # select one column\n",
    "\n",
    "newDf.show()\n",
    "\n",
    "marvelcleanDF.show()"
   ]
  },
  {
   "cell_type": "markdown",
   "id": "9d17a1b9-a100-4fe0-8e6d-166ef7d6f374",
   "metadata": {},
   "source": [
    "# Data Preprocessing "
   ]
  },
  {
   "cell_type": "markdown",
   "id": "f60242fb-0867-4b40-947a-8ab13cce2d35",
   "metadata": {},
   "source": [
    "Pipeline 1: The first pipeline aims to help us understand which distributor \n",
    "releases the 'best' Marvel movies, in order for Marvel Studios to find out \n",
    "which distributor to partner with in the future. This insight will be gained \n",
    "by analyzing the average critic grades and average revenue earned per \n",
    "distributor. First, the grades will be normalized. This is done because all \n",
    "three critic websites have different ways of scoring. Where Rotten Tomatoes \n",
    "and Metacritic use a scoring system ranging from 0 to 100, 0 being the lowest \n",
    "score and 100 the highest, CinemaScore uses a system similar to the United \n",
    "States grading system. This system ranges from F to A+, with A+ being the\n",
    "highest. Letters can also have signs (+, -). A C+ would thus be a better \n",
    "score than just C. Then, an intermediate score to assess financial success \n",
    "will be determined. This will be the worldwide revenue generated by the movie\n",
    "divided by the budget of the movie. Financial success will thus be determined\n",
    "by the ratio of revenue to budget. The average ratio and average grade will be\n",
    "calculated for every individual distributor, and lastly, the top distributors\n",
    "for both metrics will be identified.\n",
    "\n",
    "We will first join the two Marvel datasets we have available. \n",
    "- `marvelcleanDF`: contains information about marvel movies, such as their distributors, budgets and revenues\n",
    "- `reviewscleanDF`: contains information about marvel movie reviews by 3 different review websites\n",
    "- They will be joined on the `Title` and `Film` key resepctively, as this is they primary key they share.\n",
    "\n",
    "We will then divide these into `reviewDF` and `budgetDF` which will be used in their relevant tasks."
   ]
  },
  {
   "cell_type": "code",
   "execution_count": 2,
   "id": "8371f120-0a02-477f-be19-fdc48089b958",
   "metadata": {},
   "outputs": [
    {
     "name": "stdout",
     "output_type": "stream",
     "text": [
      "root\n",
      " |-- Title: string (nullable = true)\n",
      " |-- Distributor: string (nullable = true)\n",
      " |-- ReleaseDateUS: string (nullable = true)\n",
      " |-- Budget: string (nullable = true)\n",
      " |-- OpeningWeekendNorthAmerica: string (nullable = true)\n",
      " |-- NorthAmerica: string (nullable = true)\n",
      " |-- OtherTerritories: string (nullable = true)\n",
      " |-- Worldwide: string (nullable = true)\n",
      " |-- Film: string (nullable = true)\n",
      " |-- Rotten Tomatoesin%: string (nullable = true)\n",
      " |-- Metacritic: string (nullable = true)\n",
      " |-- CinemaScore3: string (nullable = true)\n",
      " |-- CinemaScore4: string (nullable = true)\n",
      "\n"
     ]
    }
   ],
   "source": [
    "#First, join dataframes on movie name\n",
    "joinExpression = marvelcleanDF[\"Title\"] == reviewscleanDF[\"Film\"]\n",
    "mergedDF = marvelcleanDF.join(reviewscleanDF, joinExpression, \"inner\")\n",
    "mergedDF.printSchema()"
   ]
  },
  {
   "cell_type": "code",
   "execution_count": 3,
   "id": "d5f82768-2fde-43d2-9507-6705b2ce0326",
   "metadata": {},
   "outputs": [
    {
     "name": "stdout",
     "output_type": "stream",
     "text": [
      "root\n",
      " |-- Title: string (nullable = true)\n",
      " |-- Distributor: string (nullable = true)\n",
      " |-- Budget: string (nullable = true)\n",
      " |-- Worldwide: string (nullable = true)\n",
      " |-- Rotten Tomatoesin%: string (nullable = true)\n",
      " |-- Metacritic: string (nullable = true)\n",
      " |-- CinemaScore4: string (nullable = true)\n",
      "\n"
     ]
    }
   ],
   "source": [
    "#Second, select relevant columns\n",
    "reviewDF = mergedDF.select(\"Title\", \"Distributor\", \"Rotten Tomatoesin%\", \"Metacritic\", \"CinemaScore4\")\n",
    "budgetDF = mergedDF.select(\"Title\", \"Distributor\", \"Budget\", \"Worldwide\")\n",
    "totalDF = mergedDF.select(\"Title\", \"Distributor\", \"Budget\", \"Worldwide\", \"Rotten Tomatoesin%\", \"Metacritic\", \"CinemaScore4\")\n",
    "#We take Cinemascore reviews WITH the sign, for more accurate insights.\n",
    "totalDF.printSchema()"
   ]
  },
  {
   "cell_type": "markdown",
   "id": "eaba4086-e0b7-4ec4-b0f0-c9053d179ef1",
   "metadata": {},
   "source": [
    "### Ranking Distributors based on Average ratings"
   ]
  },
  {
   "cell_type": "markdown",
   "id": "f48720d2-34ef-4419-9f36-24f014e61228",
   "metadata": {},
   "source": [
    "We map of american grades to percentages (based on the wikipedia page for the american grading system) in order to be able to process CinemaScore ratings. \\\n",
    "Next, we calculate the average rating for every movie by adding all ratings and dividing by 3. \\\n",
    "Then, we calculate the average rating per distributor by summing all average movie ratings and dividing by the count of movies. \\\n",
    "Lastly, we sort the distributors in descending order to easily find the top performers. \\\n",
    "\n",
    "We also show the amount of movies they made, to gain insight into how representative their performance is.\n",
    "\n",
    "We solve for: Give and average rating of the distributor that makes the best (highest-rated on average) Marvel movies"
   ]
  },
  {
   "cell_type": "code",
   "execution_count": 4,
   "id": "dc440bab-a1c7-443f-ab51-2dde8019786b",
   "metadata": {},
   "outputs": [
    {
     "name": "stdout",
     "output_type": "stream",
     "text": [
      "+--------------------+------------------+---------+---------+------------------+----------+---------------------+\n",
      "|               Title|       Distributor|   Budget|Worldwide|Rotten Tomatoesin%|Metacritic|CinemaScorePercentage|\n",
      "+--------------------+------------------+---------+---------+------------------+----------+---------------------+\n",
      "|     Howard the Duck|Universal Pictures| 37000000| 37962774|                14|        28|                   80|\n",
      "|               Blade|   New Line Cinema| 45000000|131183530|                57|        47|                   90|\n",
      "|               X-Men|  20th Century Fox| 75000000|296339527|                82|        64|                   90|\n",
      "|            Blade II|   New Line Cinema| 54000000|155010032|                57|        52|                   87|\n",
      "|          Spider-Man|     Sony Pictures|139000000|821708551|                90|        73|                   90|\n",
      "|           Daredevil|  20th Century Fox| 78000000|179179718|                44|        42|                   83|\n",
      "|                  X2|  20th Century Fox|110000000|407711549|                85|        68|                   93|\n",
      "|                Hulk|Universal Pictures|137000000|245360480|                62|        54|                   80|\n",
      "|        Spider-Man 2|     Sony Pictures|200000000|788976453|                93|        83|                   90|\n",
      "|      Blade: Trinity|   New Line Cinema| 65000000|128905366|                25|        38|                   80|\n",
      "|             Elektra|  20th Century Fox| 43000000| 56681566|                11|        34|                   83|\n",
      "|X-Men: The Last S...|  20th Century Fox|210000000|459359555|                57|        58|                   90|\n",
      "|         Ghost Rider|     Sony Pictures|110000000|228738393|                26|        35|                   83|\n",
      "|        Spider-Man 3|     Sony Pictures|258000000|890871626|                63|        59|                   87|\n",
      "|Fantastic Four: R...|  20th Century Fox|130000000|301913131|                37|        45|                   83|\n",
      "|            Iron Man|Paramount Pictures|140000000|585174222|                94|        79|                   93|\n",
      "| The Incredible Hulk|Universal Pictures|150000000|263427551|                67|        61|                   90|\n",
      "|  Punisher: War Zone|   Lionsgate Films| 35000000| 10100036|                29|        30|                   80|\n",
      "|X-Men Origins: Wo...|  20th Century Fox|150000000|373062864|                37|        40|                   87|\n",
      "|          Iron Man 2|Paramount Pictures|200000000|623933331|                73|        57|                   93|\n",
      "+--------------------+------------------+---------+---------+------------------+----------+---------------------+\n",
      "only showing top 20 rows\n",
      "\n"
     ]
    }
   ],
   "source": [
    "#Preprocess Cinemascore ratings to 0-100 scale.\n",
    "#https://en.wikipedia.org/wiki/Academic_grading_in_the_United_States\n",
    "from pyspark.sql.functions import when, col\n",
    "\n",
    "# Define the mapping logic\n",
    "grade_to_percentage = {\n",
    "    \"A+\": 97,\n",
    "    \"A\": 93,\n",
    "    \"A-\": 90,\n",
    "    \"B+\": 87,\n",
    "    \"B\": 83,\n",
    "    \"B-\": 80,\n",
    "    \"C+\": 77,\n",
    "    \"C\": 73,\n",
    "    \"C-\": 70,\n",
    "    \"D+\": 67,\n",
    "    \"D\": 63,\n",
    "    \"D-\": 60,\n",
    "    \"F\": 50\n",
    "}\n",
    "\n",
    "# Map grades to percentages\n",
    "percentageDF = totalDF.withColumn(\n",
    "    \"CinemaScorePercentage\",\n",
    "    when(col(\"CinemaScore4\") == \"A+\", grade_to_percentage[\"A+\"])\n",
    "    .when(col(\"CinemaScore4\") == \"A\", grade_to_percentage[\"A\"])\n",
    "    .when(col(\"CinemaScore4\") == \"A-\", grade_to_percentage[\"A-\"])\n",
    "    .when(col(\"CinemaScore4\") == \"B+\", grade_to_percentage[\"B+\"])\n",
    "    .when(col(\"CinemaScore4\") == \"B\", grade_to_percentage[\"B\"])\n",
    "    .when(col(\"CinemaScore4\") == \"B-\", grade_to_percentage[\"B-\"])\n",
    "    .when(col(\"CinemaScore4\") == \"C+\", grade_to_percentage[\"C+\"])\n",
    "    .when(col(\"CinemaScore4\") == \"C\", grade_to_percentage[\"C\"])\n",
    "    .when(col(\"CinemaScore4\") == \"C-\", grade_to_percentage[\"C-\"])\n",
    "    .when(col(\"CinemaScore4\") == \"D+\", grade_to_percentage[\"D+\"])\n",
    "    .when(col(\"CinemaScore4\") == \"D\", grade_to_percentage[\"D\"])\n",
    "    .when(col(\"CinemaScore4\") == \"D-\", grade_to_percentage[\"D-\"])\n",
    "    .when(col(\"CinemaScore4\") == \"F\", grade_to_percentage[\"F\"])\n",
    ")\n",
    "\n",
    "#Drop old column with American grades\n",
    "finalDF = percentageDF.drop(\"CinemaScore4\")\n",
    "\n",
    "# Show the results\n",
    "finalDF.show()"
   ]
  },
  {
   "cell_type": "code",
   "execution_count": 5,
   "id": "2f394ae1-1e87-495a-be15-2ccef0bdfc19",
   "metadata": {},
   "outputs": [
    {
     "name": "stdout",
     "output_type": "stream",
     "text": [
      "+--------------------+--------------------+-----------+\n",
      "|         Distributor|avgRatingDistributor|moviesCount|\n",
      "+--------------------+--------------------+-----------+\n",
      "|Walt Disney Studi...|   81.93333333333334|         20|\n",
      "|  Paramount Pictures|   78.83333333333334|          4|\n",
      "|       Sony Pictures|    72.3076923076923|         13|\n",
      "|    20th Century Fox|   69.15555555555555|         15|\n",
      "|  Universal Pictures|  59.555555555555564|          3|\n",
      "|     New Line Cinema|   59.22222222222222|          3|\n",
      "|     Lionsgate Films|  46.333333333333336|          1|\n",
      "|20th Century Studios|                NULL|          1|\n",
      "+--------------------+--------------------+-----------+\n",
      "\n"
     ]
    }
   ],
   "source": [
    "#Get top-rated movies per distributor\n",
    "from pyspark.sql import functions as F\n",
    "#First get average ratings\n",
    "avgRatingsDF = finalDF.withColumn(\"avgRating\", \n",
    "                                  (finalDF[\"Rotten Tomatoesin%\"] +\n",
    "                                  finalDF[\"Metacritic\"] +\n",
    "                                  finalDF[\"CinemaScorePercentage\"]) / 3\n",
    "                                 )\n",
    "\n",
    "avgRatingsDistributorDF = avgRatingsDF.groupby(\"Distributor\") \\\n",
    "    .agg(\n",
    "        F.avg(\"avgRating\").alias(\"avgRatingDistributor\"),\n",
    "        F.count(\"Title\").alias(\"moviesCount\")\n",
    "        )\n",
    "\n",
    "bestDistributorsRatingDF = avgRatingsDistributorDF.orderBy(F.desc(\"avgRatingDistributor\"))\n",
    "\n",
    "bestDistributorsRatingDF.show()"
   ]
  },
  {
   "cell_type": "markdown",
   "id": "129817eb-5649-4c3f-8e13-5f33c6101f0e",
   "metadata": {},
   "source": [
    "`20th Century Studios` having `NULL` as their rating can be explained by the fact that their only movie, `'The New Mutants'` does not exist in the reviews dataset."
   ]
  },
  {
   "cell_type": "markdown",
   "id": "94ce467a-547b-493e-b181-1487271c0157",
   "metadata": {},
   "source": [
    "### Ranking distributors based on their revenue-budget ratios"
   ]
  },
  {
   "cell_type": "markdown",
   "id": "27851e77-ba2a-44d7-8221-e06414b8fc4a",
   "metadata": {},
   "source": [
    "We calculate the ratio of revenue to budget per movie. \\\n",
    "We then group on distributors, while calculating their average ratios and counting the amount of movies they made. \\\n",
    "Lastly, we sort the distributors in descending order to easily gain insight into top performers.\n",
    "\n",
    "We solve for: Give the name and average profitability ratio of the distributor that makes the most profitable Marvel movies"
   ]
  },
  {
   "cell_type": "code",
   "execution_count": 6,
   "id": "c1a73032-990f-496c-a7cd-17665e6b4eed",
   "metadata": {},
   "outputs": [
    {
     "name": "stdout",
     "output_type": "stream",
     "text": [
      "+--------------------+------------------+----------+\n",
      "|         Distributor|          avgRatio|movieCount|\n",
      "+--------------------+------------------+----------+\n",
      "|       Sony Pictures|4.8033323893827164|        13|\n",
      "|Walt Disney Studi...|  4.80195452026283|        20|\n",
      "|    20th Century Fox| 3.932785455220428|        15|\n",
      "|  Paramount Pictures| 3.235480067559524|         4|\n",
      "|     New Line Cinema|2.5896350602089266|         3|\n",
      "|  Universal Pictures| 1.524385667003792|         3|\n",
      "|20th Century Studios|0.7264935223880598|         1|\n",
      "|     Lionsgate Films|0.2885724571428571|         1|\n",
      "+--------------------+------------------+----------+\n",
      "\n"
     ]
    }
   ],
   "source": [
    "ratioDF = totalDF.withColumn(\"ratio\", totalDF[\"Worldwide\"] / totalDF[\"Budget\"])\n",
    "\n",
    "avgRatioDF = ratioDF.groupBy(\"Distributor\") \\\n",
    "    .agg(\n",
    "        F.avg(\"ratio\").alias(\"avgRatio\"),\n",
    "        F.count(\"Title\").alias(\"movieCount\")\n",
    "    )\n",
    "\n",
    "bestDistributorsRatioDF = avgRatioDF.orderBy(F.desc(\"avgRatio\"))\n",
    "\n",
    "bestDistributorsRatioDF.show()"
   ]
  },
  {
   "cell_type": "markdown",
   "id": "d3c0737c-9f9b-4357-aa4b-6bf7943d519e",
   "metadata": {},
   "source": [
    "`20th Century Studios` and `Lionsgate` only made 1 marvel movie, which have both not been very profitable. Perhaps this metric is not a good representation of their skills. \\\n",
    "`Sony Pictures` and `Walt Disney Studios` show relatively very high profitability, also with a larger sample size.\n",
    "It is seen that distributors with more movies have higher profitability. This could be attributed to either:\n",
    "- Them having made 1 or 2 extremely well-performing blockbusters, driving up their ratio.\n",
    "- Marvel studios already realizing they make profitable movies in the past, thus giving them more opportunities to make movies."
   ]
  },
  {
   "cell_type": "markdown",
   "id": "844e5285-7314-4127-8262-15ebf4cc1de8",
   "metadata": {},
   "source": [
    "# Save Processed data in BigQuery"
   ]
  },
  {
   "cell_type": "code",
   "execution_count": 8,
   "id": "2e8a4950-0b94-4da3-b69a-698ab99d7ae2",
   "metadata": {},
   "outputs": [
    {
     "ename": "Py4JJavaError",
     "evalue": "An error occurred while calling o179.save.\n: com.google.cloud.bigquery.connector.common.BigQueryConnectorException: Failed to write to BigQuery\n\tat com.google.cloud.spark.bigquery.write.BigQueryWriteHelper.writeDataFrameToBigQuery(BigQueryWriteHelper.java:111)\n\tat com.google.cloud.spark.bigquery.write.BigQueryDeprecatedIndirectInsertableRelation.insert(BigQueryDeprecatedIndirectInsertableRelation.java:43)\n\tat com.google.cloud.spark.bigquery.write.CreatableRelationProviderHelper.createRelation(CreatableRelationProviderHelper.java:51)\n\tat com.google.cloud.spark.bigquery.BigQueryRelationProvider.createRelation(BigQueryRelationProvider.scala:107)\n\tat org.apache.spark.sql.execution.datasources.SaveIntoDataSourceCommand.run(SaveIntoDataSourceCommand.scala:48)\n\tat org.apache.spark.sql.execution.command.ExecutedCommandExec.sideEffectResult$lzycompute(commands.scala:75)\n\tat org.apache.spark.sql.execution.command.ExecutedCommandExec.sideEffectResult(commands.scala:73)\n\tat org.apache.spark.sql.execution.command.ExecutedCommandExec.executeCollect(commands.scala:84)\n\tat org.apache.spark.sql.execution.QueryExecution$$anonfun$eagerlyExecuteCommands$1.$anonfun$applyOrElse$1(QueryExecution.scala:107)\n\tat org.apache.spark.sql.execution.SQLExecution$.$anonfun$withNewExecutionId$6(SQLExecution.scala:125)\n\tat org.apache.spark.sql.execution.SQLExecution$.withSQLConfPropagated(SQLExecution.scala:201)\n\tat org.apache.spark.sql.execution.SQLExecution$.$anonfun$withNewExecutionId$1(SQLExecution.scala:108)\n\tat org.apache.spark.sql.SparkSession.withActive(SparkSession.scala:900)\n\tat org.apache.spark.sql.execution.SQLExecution$.withNewExecutionId(SQLExecution.scala:66)\n\tat org.apache.spark.sql.execution.QueryExecution$$anonfun$eagerlyExecuteCommands$1.applyOrElse(QueryExecution.scala:107)\n\tat org.apache.spark.sql.execution.QueryExecution$$anonfun$eagerlyExecuteCommands$1.applyOrElse(QueryExecution.scala:98)\n\tat org.apache.spark.sql.catalyst.trees.TreeNode.$anonfun$transformDownWithPruning$1(TreeNode.scala:461)\n\tat org.apache.spark.sql.catalyst.trees.CurrentOrigin$.withOrigin(origin.scala:76)\n\tat org.apache.spark.sql.catalyst.trees.TreeNode.transformDownWithPruning(TreeNode.scala:461)\n\tat org.apache.spark.sql.catalyst.plans.logical.LogicalPlan.org$apache$spark$sql$catalyst$plans$logical$AnalysisHelper$$super$transformDownWithPruning(LogicalPlan.scala:32)\n\tat org.apache.spark.sql.catalyst.plans.logical.AnalysisHelper.transformDownWithPruning(AnalysisHelper.scala:267)\n\tat org.apache.spark.sql.catalyst.plans.logical.AnalysisHelper.transformDownWithPruning$(AnalysisHelper.scala:263)\n\tat org.apache.spark.sql.catalyst.plans.logical.LogicalPlan.transformDownWithPruning(LogicalPlan.scala:32)\n\tat org.apache.spark.sql.catalyst.plans.logical.LogicalPlan.transformDownWithPruning(LogicalPlan.scala:32)\n\tat org.apache.spark.sql.catalyst.trees.TreeNode.transformDown(TreeNode.scala:437)\n\tat org.apache.spark.sql.execution.QueryExecution.eagerlyExecuteCommands(QueryExecution.scala:98)\n\tat org.apache.spark.sql.execution.QueryExecution.commandExecuted$lzycompute(QueryExecution.scala:85)\n\tat org.apache.spark.sql.execution.QueryExecution.commandExecuted(QueryExecution.scala:83)\n\tat org.apache.spark.sql.execution.QueryExecution.assertCommandExecuted(QueryExecution.scala:142)\n\tat org.apache.spark.sql.DataFrameWriter.runCommand(DataFrameWriter.scala:859)\n\tat org.apache.spark.sql.DataFrameWriter.saveToV1Source(DataFrameWriter.scala:388)\n\tat org.apache.spark.sql.DataFrameWriter.saveInternal(DataFrameWriter.scala:361)\n\tat org.apache.spark.sql.DataFrameWriter.save(DataFrameWriter.scala:248)\n\tat java.base/jdk.internal.reflect.NativeMethodAccessorImpl.invoke0(Native Method)\n\tat java.base/jdk.internal.reflect.NativeMethodAccessorImpl.invoke(NativeMethodAccessorImpl.java:77)\n\tat java.base/jdk.internal.reflect.DelegatingMethodAccessorImpl.invoke(DelegatingMethodAccessorImpl.java:43)\n\tat java.base/java.lang.reflect.Method.invoke(Method.java:568)\n\tat py4j.reflection.MethodInvoker.invoke(MethodInvoker.java:244)\n\tat py4j.reflection.ReflectionEngine.invoke(ReflectionEngine.java:374)\n\tat py4j.Gateway.invoke(Gateway.java:282)\n\tat py4j.commands.AbstractCommand.invokeMethod(AbstractCommand.java:132)\n\tat py4j.commands.CallCommand.execute(CallCommand.java:79)\n\tat py4j.ClientServerConnection.waitForCommands(ClientServerConnection.java:182)\n\tat py4j.ClientServerConnection.run(ClientServerConnection.java:106)\n\tat java.base/java.lang.Thread.run(Thread.java:833)\nCaused by: com.google.cloud.spark.bigquery.repackaged.com.google.cloud.bigquery.BigQueryException: Provided Schema does not match Table gothic-talent-435511-s2:marvel.processed_data. Field moviesCount is missing in new schema\n\tat com.google.cloud.spark.bigquery.repackaged.com.google.cloud.bigquery.Job.reload(Job.java:424)\n\tat com.google.cloud.spark.bigquery.repackaged.com.google.cloud.bigquery.Job.waitFor(Job.java:252)\n\tat com.google.cloud.bigquery.connector.common.BigQueryClient.createAndWaitFor(BigQueryClient.java:385)\n\tat com.google.cloud.bigquery.connector.common.BigQueryClient.createAndWaitFor(BigQueryClient.java:375)\n\tat com.google.cloud.bigquery.connector.common.BigQueryClient.loadDataIntoTable(BigQueryClient.java:646)\n\tat com.google.cloud.spark.bigquery.write.BigQueryWriteHelper.loadDataToBigQuery(BigQueryWriteHelper.java:139)\n\tat com.google.cloud.spark.bigquery.write.BigQueryWriteHelper.writeDataFrameToBigQuery(BigQueryWriteHelper.java:108)\n\t... 44 more\n",
     "output_type": "error",
     "traceback": [
      "\u001b[0;31m---------------------------------------------------------------------------\u001b[0m",
      "\u001b[0;31mPy4JJavaError\u001b[0m                             Traceback (most recent call last)",
      "Cell \u001b[0;32mIn[8], line 10\u001b[0m\n\u001b[1;32m      8\u001b[0m \u001b[38;5;66;03m# Saving the data to BigQuery\u001b[39;00m\n\u001b[1;32m      9\u001b[0m bestDistributorsRatingDF\u001b[38;5;241m.\u001b[39mwrite\u001b[38;5;241m.\u001b[39mformat(\u001b[38;5;124m'\u001b[39m\u001b[38;5;124mbigquery\u001b[39m\u001b[38;5;124m'\u001b[39m)\u001b[38;5;241m.\u001b[39moption(\u001b[38;5;124m'\u001b[39m\u001b[38;5;124mtable\u001b[39m\u001b[38;5;124m'\u001b[39m, \u001b[38;5;124m'\u001b[39m\u001b[38;5;124mgothic-talent-435511-s2.marvel.processed_data\u001b[39m\u001b[38;5;124m'\u001b[39m)\u001b[38;5;241m.\u001b[39mmode(\u001b[38;5;124m\"\u001b[39m\u001b[38;5;124mappend\u001b[39m\u001b[38;5;124m\"\u001b[39m)\u001b[38;5;241m.\u001b[39msave() \u001b[38;5;66;03m# Change the project name before marvel to yours! You can find this when you click on DE2024\u001b[39;00m\n\u001b[0;32m---> 10\u001b[0m \u001b[43mbestDistributorsRatioDF\u001b[49m\u001b[38;5;241;43m.\u001b[39;49m\u001b[43mwrite\u001b[49m\u001b[38;5;241;43m.\u001b[39;49m\u001b[43mformat\u001b[49m\u001b[43m(\u001b[49m\u001b[38;5;124;43m'\u001b[39;49m\u001b[38;5;124;43mbigquery\u001b[39;49m\u001b[38;5;124;43m'\u001b[39;49m\u001b[43m)\u001b[49m\u001b[38;5;241;43m.\u001b[39;49m\u001b[43moption\u001b[49m\u001b[43m(\u001b[49m\u001b[38;5;124;43m'\u001b[39;49m\u001b[38;5;124;43mtable\u001b[39;49m\u001b[38;5;124;43m'\u001b[39;49m\u001b[43m,\u001b[49m\u001b[43m \u001b[49m\u001b[38;5;124;43m'\u001b[39;49m\u001b[38;5;124;43mgothic-talent-435511-s2.marvel.processed_data\u001b[39;49m\u001b[38;5;124;43m'\u001b[39;49m\u001b[43m)\u001b[49m\u001b[38;5;241;43m.\u001b[39;49m\u001b[43mmode\u001b[49m\u001b[43m(\u001b[49m\u001b[38;5;124;43m\"\u001b[39;49m\u001b[38;5;124;43mappend\u001b[39;49m\u001b[38;5;124;43m\"\u001b[39;49m\u001b[43m)\u001b[49m\u001b[38;5;241;43m.\u001b[39;49m\u001b[43msave\u001b[49m\u001b[43m(\u001b[49m\u001b[43m)\u001b[49m \u001b[38;5;66;03m# Change the project name before marvel to yours! You can find this when you click on DE2024\u001b[39;00m\n",
      "File \u001b[0;32m/usr/local/spark/python/pyspark/sql/readwriter.py:1461\u001b[0m, in \u001b[0;36mDataFrameWriter.save\u001b[0;34m(self, path, format, mode, partitionBy, **options)\u001b[0m\n\u001b[1;32m   1459\u001b[0m     \u001b[38;5;28mself\u001b[39m\u001b[38;5;241m.\u001b[39mformat(\u001b[38;5;28mformat\u001b[39m)\n\u001b[1;32m   1460\u001b[0m \u001b[38;5;28;01mif\u001b[39;00m path \u001b[38;5;129;01mis\u001b[39;00m \u001b[38;5;28;01mNone\u001b[39;00m:\n\u001b[0;32m-> 1461\u001b[0m     \u001b[38;5;28;43mself\u001b[39;49m\u001b[38;5;241;43m.\u001b[39;49m\u001b[43m_jwrite\u001b[49m\u001b[38;5;241;43m.\u001b[39;49m\u001b[43msave\u001b[49m\u001b[43m(\u001b[49m\u001b[43m)\u001b[49m\n\u001b[1;32m   1462\u001b[0m \u001b[38;5;28;01melse\u001b[39;00m:\n\u001b[1;32m   1463\u001b[0m     \u001b[38;5;28mself\u001b[39m\u001b[38;5;241m.\u001b[39m_jwrite\u001b[38;5;241m.\u001b[39msave(path)\n",
      "File \u001b[0;32m/usr/local/spark/python/lib/py4j-0.10.9.7-src.zip/py4j/java_gateway.py:1322\u001b[0m, in \u001b[0;36mJavaMember.__call__\u001b[0;34m(self, *args)\u001b[0m\n\u001b[1;32m   1316\u001b[0m command \u001b[38;5;241m=\u001b[39m proto\u001b[38;5;241m.\u001b[39mCALL_COMMAND_NAME \u001b[38;5;241m+\u001b[39m\\\n\u001b[1;32m   1317\u001b[0m     \u001b[38;5;28mself\u001b[39m\u001b[38;5;241m.\u001b[39mcommand_header \u001b[38;5;241m+\u001b[39m\\\n\u001b[1;32m   1318\u001b[0m     args_command \u001b[38;5;241m+\u001b[39m\\\n\u001b[1;32m   1319\u001b[0m     proto\u001b[38;5;241m.\u001b[39mEND_COMMAND_PART\n\u001b[1;32m   1321\u001b[0m answer \u001b[38;5;241m=\u001b[39m \u001b[38;5;28mself\u001b[39m\u001b[38;5;241m.\u001b[39mgateway_client\u001b[38;5;241m.\u001b[39msend_command(command)\n\u001b[0;32m-> 1322\u001b[0m return_value \u001b[38;5;241m=\u001b[39m \u001b[43mget_return_value\u001b[49m\u001b[43m(\u001b[49m\n\u001b[1;32m   1323\u001b[0m \u001b[43m    \u001b[49m\u001b[43manswer\u001b[49m\u001b[43m,\u001b[49m\u001b[43m \u001b[49m\u001b[38;5;28;43mself\u001b[39;49m\u001b[38;5;241;43m.\u001b[39;49m\u001b[43mgateway_client\u001b[49m\u001b[43m,\u001b[49m\u001b[43m \u001b[49m\u001b[38;5;28;43mself\u001b[39;49m\u001b[38;5;241;43m.\u001b[39;49m\u001b[43mtarget_id\u001b[49m\u001b[43m,\u001b[49m\u001b[43m \u001b[49m\u001b[38;5;28;43mself\u001b[39;49m\u001b[38;5;241;43m.\u001b[39;49m\u001b[43mname\u001b[49m\u001b[43m)\u001b[49m\n\u001b[1;32m   1325\u001b[0m \u001b[38;5;28;01mfor\u001b[39;00m temp_arg \u001b[38;5;129;01min\u001b[39;00m temp_args:\n\u001b[1;32m   1326\u001b[0m     \u001b[38;5;28;01mif\u001b[39;00m \u001b[38;5;28mhasattr\u001b[39m(temp_arg, \u001b[38;5;124m\"\u001b[39m\u001b[38;5;124m_detach\u001b[39m\u001b[38;5;124m\"\u001b[39m):\n",
      "File \u001b[0;32m/usr/local/spark/python/pyspark/errors/exceptions/captured.py:179\u001b[0m, in \u001b[0;36mcapture_sql_exception.<locals>.deco\u001b[0;34m(*a, **kw)\u001b[0m\n\u001b[1;32m    177\u001b[0m \u001b[38;5;28;01mdef\u001b[39;00m \u001b[38;5;21mdeco\u001b[39m(\u001b[38;5;241m*\u001b[39ma: Any, \u001b[38;5;241m*\u001b[39m\u001b[38;5;241m*\u001b[39mkw: Any) \u001b[38;5;241m-\u001b[39m\u001b[38;5;241m>\u001b[39m Any:\n\u001b[1;32m    178\u001b[0m     \u001b[38;5;28;01mtry\u001b[39;00m:\n\u001b[0;32m--> 179\u001b[0m         \u001b[38;5;28;01mreturn\u001b[39;00m \u001b[43mf\u001b[49m\u001b[43m(\u001b[49m\u001b[38;5;241;43m*\u001b[39;49m\u001b[43ma\u001b[49m\u001b[43m,\u001b[49m\u001b[43m \u001b[49m\u001b[38;5;241;43m*\u001b[39;49m\u001b[38;5;241;43m*\u001b[39;49m\u001b[43mkw\u001b[49m\u001b[43m)\u001b[49m\n\u001b[1;32m    180\u001b[0m     \u001b[38;5;28;01mexcept\u001b[39;00m Py4JJavaError \u001b[38;5;28;01mas\u001b[39;00m e:\n\u001b[1;32m    181\u001b[0m         converted \u001b[38;5;241m=\u001b[39m convert_exception(e\u001b[38;5;241m.\u001b[39mjava_exception)\n",
      "File \u001b[0;32m/usr/local/spark/python/lib/py4j-0.10.9.7-src.zip/py4j/protocol.py:326\u001b[0m, in \u001b[0;36mget_return_value\u001b[0;34m(answer, gateway_client, target_id, name)\u001b[0m\n\u001b[1;32m    324\u001b[0m value \u001b[38;5;241m=\u001b[39m OUTPUT_CONVERTER[\u001b[38;5;28mtype\u001b[39m](answer[\u001b[38;5;241m2\u001b[39m:], gateway_client)\n\u001b[1;32m    325\u001b[0m \u001b[38;5;28;01mif\u001b[39;00m answer[\u001b[38;5;241m1\u001b[39m] \u001b[38;5;241m==\u001b[39m REFERENCE_TYPE:\n\u001b[0;32m--> 326\u001b[0m     \u001b[38;5;28;01mraise\u001b[39;00m Py4JJavaError(\n\u001b[1;32m    327\u001b[0m         \u001b[38;5;124m\"\u001b[39m\u001b[38;5;124mAn error occurred while calling \u001b[39m\u001b[38;5;132;01m{0}\u001b[39;00m\u001b[38;5;132;01m{1}\u001b[39;00m\u001b[38;5;132;01m{2}\u001b[39;00m\u001b[38;5;124m.\u001b[39m\u001b[38;5;130;01m\\n\u001b[39;00m\u001b[38;5;124m\"\u001b[39m\u001b[38;5;241m.\u001b[39m\n\u001b[1;32m    328\u001b[0m         \u001b[38;5;28mformat\u001b[39m(target_id, \u001b[38;5;124m\"\u001b[39m\u001b[38;5;124m.\u001b[39m\u001b[38;5;124m\"\u001b[39m, name), value)\n\u001b[1;32m    329\u001b[0m \u001b[38;5;28;01melse\u001b[39;00m:\n\u001b[1;32m    330\u001b[0m     \u001b[38;5;28;01mraise\u001b[39;00m Py4JError(\n\u001b[1;32m    331\u001b[0m         \u001b[38;5;124m\"\u001b[39m\u001b[38;5;124mAn error occurred while calling \u001b[39m\u001b[38;5;132;01m{0}\u001b[39;00m\u001b[38;5;132;01m{1}\u001b[39;00m\u001b[38;5;132;01m{2}\u001b[39;00m\u001b[38;5;124m. Trace:\u001b[39m\u001b[38;5;130;01m\\n\u001b[39;00m\u001b[38;5;132;01m{3}\u001b[39;00m\u001b[38;5;130;01m\\n\u001b[39;00m\u001b[38;5;124m\"\u001b[39m\u001b[38;5;241m.\u001b[39m\n\u001b[1;32m    332\u001b[0m         \u001b[38;5;28mformat\u001b[39m(target_id, \u001b[38;5;124m\"\u001b[39m\u001b[38;5;124m.\u001b[39m\u001b[38;5;124m\"\u001b[39m, name, value))\n",
      "\u001b[0;31mPy4JJavaError\u001b[0m: An error occurred while calling o179.save.\n: com.google.cloud.bigquery.connector.common.BigQueryConnectorException: Failed to write to BigQuery\n\tat com.google.cloud.spark.bigquery.write.BigQueryWriteHelper.writeDataFrameToBigQuery(BigQueryWriteHelper.java:111)\n\tat com.google.cloud.spark.bigquery.write.BigQueryDeprecatedIndirectInsertableRelation.insert(BigQueryDeprecatedIndirectInsertableRelation.java:43)\n\tat com.google.cloud.spark.bigquery.write.CreatableRelationProviderHelper.createRelation(CreatableRelationProviderHelper.java:51)\n\tat com.google.cloud.spark.bigquery.BigQueryRelationProvider.createRelation(BigQueryRelationProvider.scala:107)\n\tat org.apache.spark.sql.execution.datasources.SaveIntoDataSourceCommand.run(SaveIntoDataSourceCommand.scala:48)\n\tat org.apache.spark.sql.execution.command.ExecutedCommandExec.sideEffectResult$lzycompute(commands.scala:75)\n\tat org.apache.spark.sql.execution.command.ExecutedCommandExec.sideEffectResult(commands.scala:73)\n\tat org.apache.spark.sql.execution.command.ExecutedCommandExec.executeCollect(commands.scala:84)\n\tat org.apache.spark.sql.execution.QueryExecution$$anonfun$eagerlyExecuteCommands$1.$anonfun$applyOrElse$1(QueryExecution.scala:107)\n\tat org.apache.spark.sql.execution.SQLExecution$.$anonfun$withNewExecutionId$6(SQLExecution.scala:125)\n\tat org.apache.spark.sql.execution.SQLExecution$.withSQLConfPropagated(SQLExecution.scala:201)\n\tat org.apache.spark.sql.execution.SQLExecution$.$anonfun$withNewExecutionId$1(SQLExecution.scala:108)\n\tat org.apache.spark.sql.SparkSession.withActive(SparkSession.scala:900)\n\tat org.apache.spark.sql.execution.SQLExecution$.withNewExecutionId(SQLExecution.scala:66)\n\tat org.apache.spark.sql.execution.QueryExecution$$anonfun$eagerlyExecuteCommands$1.applyOrElse(QueryExecution.scala:107)\n\tat org.apache.spark.sql.execution.QueryExecution$$anonfun$eagerlyExecuteCommands$1.applyOrElse(QueryExecution.scala:98)\n\tat org.apache.spark.sql.catalyst.trees.TreeNode.$anonfun$transformDownWithPruning$1(TreeNode.scala:461)\n\tat org.apache.spark.sql.catalyst.trees.CurrentOrigin$.withOrigin(origin.scala:76)\n\tat org.apache.spark.sql.catalyst.trees.TreeNode.transformDownWithPruning(TreeNode.scala:461)\n\tat org.apache.spark.sql.catalyst.plans.logical.LogicalPlan.org$apache$spark$sql$catalyst$plans$logical$AnalysisHelper$$super$transformDownWithPruning(LogicalPlan.scala:32)\n\tat org.apache.spark.sql.catalyst.plans.logical.AnalysisHelper.transformDownWithPruning(AnalysisHelper.scala:267)\n\tat org.apache.spark.sql.catalyst.plans.logical.AnalysisHelper.transformDownWithPruning$(AnalysisHelper.scala:263)\n\tat org.apache.spark.sql.catalyst.plans.logical.LogicalPlan.transformDownWithPruning(LogicalPlan.scala:32)\n\tat org.apache.spark.sql.catalyst.plans.logical.LogicalPlan.transformDownWithPruning(LogicalPlan.scala:32)\n\tat org.apache.spark.sql.catalyst.trees.TreeNode.transformDown(TreeNode.scala:437)\n\tat org.apache.spark.sql.execution.QueryExecution.eagerlyExecuteCommands(QueryExecution.scala:98)\n\tat org.apache.spark.sql.execution.QueryExecution.commandExecuted$lzycompute(QueryExecution.scala:85)\n\tat org.apache.spark.sql.execution.QueryExecution.commandExecuted(QueryExecution.scala:83)\n\tat org.apache.spark.sql.execution.QueryExecution.assertCommandExecuted(QueryExecution.scala:142)\n\tat org.apache.spark.sql.DataFrameWriter.runCommand(DataFrameWriter.scala:859)\n\tat org.apache.spark.sql.DataFrameWriter.saveToV1Source(DataFrameWriter.scala:388)\n\tat org.apache.spark.sql.DataFrameWriter.saveInternal(DataFrameWriter.scala:361)\n\tat org.apache.spark.sql.DataFrameWriter.save(DataFrameWriter.scala:248)\n\tat java.base/jdk.internal.reflect.NativeMethodAccessorImpl.invoke0(Native Method)\n\tat java.base/jdk.internal.reflect.NativeMethodAccessorImpl.invoke(NativeMethodAccessorImpl.java:77)\n\tat java.base/jdk.internal.reflect.DelegatingMethodAccessorImpl.invoke(DelegatingMethodAccessorImpl.java:43)\n\tat java.base/java.lang.reflect.Method.invoke(Method.java:568)\n\tat py4j.reflection.MethodInvoker.invoke(MethodInvoker.java:244)\n\tat py4j.reflection.ReflectionEngine.invoke(ReflectionEngine.java:374)\n\tat py4j.Gateway.invoke(Gateway.java:282)\n\tat py4j.commands.AbstractCommand.invokeMethod(AbstractCommand.java:132)\n\tat py4j.commands.CallCommand.execute(CallCommand.java:79)\n\tat py4j.ClientServerConnection.waitForCommands(ClientServerConnection.java:182)\n\tat py4j.ClientServerConnection.run(ClientServerConnection.java:106)\n\tat java.base/java.lang.Thread.run(Thread.java:833)\nCaused by: com.google.cloud.spark.bigquery.repackaged.com.google.cloud.bigquery.BigQueryException: Provided Schema does not match Table gothic-talent-435511-s2:marvel.processed_data. Field moviesCount is missing in new schema\n\tat com.google.cloud.spark.bigquery.repackaged.com.google.cloud.bigquery.Job.reload(Job.java:424)\n\tat com.google.cloud.spark.bigquery.repackaged.com.google.cloud.bigquery.Job.waitFor(Job.java:252)\n\tat com.google.cloud.bigquery.connector.common.BigQueryClient.createAndWaitFor(BigQueryClient.java:385)\n\tat com.google.cloud.bigquery.connector.common.BigQueryClient.createAndWaitFor(BigQueryClient.java:375)\n\tat com.google.cloud.bigquery.connector.common.BigQueryClient.loadDataIntoTable(BigQueryClient.java:646)\n\tat com.google.cloud.spark.bigquery.write.BigQueryWriteHelper.loadDataToBigQuery(BigQueryWriteHelper.java:139)\n\tat com.google.cloud.spark.bigquery.write.BigQueryWriteHelper.writeDataFrameToBigQuery(BigQueryWriteHelper.java:108)\n\t... 44 more\n"
     ]
    }
   ],
   "source": [
    "# Use the Cloud Storage bucket for temporary BigQuery export data used by the connector.\n",
    "bucket = \"marvel_temp_onno\"  # use your bucket \n",
    "spark.conf.set('temporaryGcsBucket', bucket)\n",
    "# Setup hadoop fs configuration for schema gs://\n",
    "conf = spark.sparkContext._jsc.hadoopConfiguration()\n",
    "conf.set(\"fs.gs.impl\", \"com.google.cloud.hadoop.fs.gcs.GoogleHadoopFileSystem\")\n",
    "conf.set(\"fs.AbstractFileSystem.gs.impl\", \"com.google.cloud.hadoop.fs.gcs.GoogleHadoopFS\")\n",
    "# Saving the data to BigQuery\n",
    "bestDistributorsRatingDF.write.format('bigquery').option('table', 'gothic-talent-435511-s2.marvel.processed_data').mode(\"append\").save() # Change the project name before marvel to yours! You can find this when you click on DE2024\n",
    "bestDistributorsRatioDF.write.format('bigquery').option('table', 'gothic-talent-435511-s2.marvel.processed_data').mode(\"append\").save() # Change the project name before marvel to yours! You can find this when you click on DE2024"
   ]
  },
  {
   "cell_type": "code",
   "execution_count": 9,
   "id": "c3979adb-fe17-45ad-b2f5-0ef84ff2e425",
   "metadata": {},
   "outputs": [],
   "source": [
    "spark.stop()"
   ]
  },
  {
   "cell_type": "code",
   "execution_count": null,
   "id": "bc8ba04b-8688-441b-a504-943811cd5e07",
   "metadata": {},
   "outputs": [],
   "source": []
  }
 ],
 "metadata": {
  "kernelspec": {
   "display_name": "Python 3 (ipykernel)",
   "language": "python",
   "name": "python3"
  },
  "language_info": {
   "codemirror_mode": {
    "name": "ipython",
    "version": 3
   },
   "file_extension": ".py",
   "mimetype": "text/x-python",
   "name": "python",
   "nbconvert_exporter": "python",
   "pygments_lexer": "ipython3",
   "version": "3.11.6"
  }
 },
 "nbformat": 4,
 "nbformat_minor": 5
}
