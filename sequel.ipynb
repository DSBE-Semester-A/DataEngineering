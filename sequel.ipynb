{
 "cells": [
  {
   "cell_type": "markdown",
   "id": "4336a42b-c49e-4f89-a256-e398f8918864",
   "metadata": {},
   "source": [
    "# Start Spark Session & Import data form Google Cloud Bucket"
   ]
  },
  {
   "cell_type": "code",
   "execution_count": 1,
   "id": "d80fb863-c3a9-4d25-b4a0-4da22aeead7a",
   "metadata": {},
   "outputs": [
    {
     "name": "stdout",
     "output_type": "stream",
     "text": [
      "root\n",
      " |-- Title: string (nullable = true)\n",
      " |-- Distributor: string (nullable = true)\n",
      " |-- ReleaseDateUS: string (nullable = true)\n",
      " |-- Budget: string (nullable = true)\n",
      " |-- OpeningWeekendNorthAmerica: string (nullable = true)\n",
      " |-- NorthAmerica: string (nullable = true)\n",
      " |-- OtherTerritories: string (nullable = true)\n",
      " |-- Worldwide: string (nullable = true)\n",
      "\n",
      "+--------------------+\n",
      "|               Title|\n",
      "+--------------------+\n",
      "|     Howard the Duck|\n",
      "|               Blade|\n",
      "|               X-Men|\n",
      "|            Blade II|\n",
      "|          Spider-Man|\n",
      "|           Daredevil|\n",
      "|                  X2|\n",
      "|                Hulk|\n",
      "|        The Punisher|\n",
      "|        Spider-Man 2|\n",
      "|      Blade: Trinity|\n",
      "|             Elektra|\n",
      "|      Fantastic Four|\n",
      "|X-Men: The Last S...|\n",
      "|         Ghost Rider|\n",
      "|        Spider-Man 3|\n",
      "|Fantastic Four: R...|\n",
      "|            Iron Man|\n",
      "| The Incredible Hulk|\n",
      "|  Punisher: War Zone|\n",
      "+--------------------+\n",
      "only showing top 20 rows\n",
      "\n",
      "+--------------------+------------------+-------------------+---------+--------------------------+------------+----------------+---------+\n",
      "|               Title|       Distributor|      ReleaseDateUS|   Budget|OpeningWeekendNorthAmerica|NorthAmerica|OtherTerritories|Worldwide|\n",
      "+--------------------+------------------+-------------------+---------+--------------------------+------------+----------------+---------+\n",
      "|     Howard the Duck|Universal Pictures|1986-08-01 00:00:00| 37000000|                   5070136|    16295774|        21667000| 37962774|\n",
      "|               Blade|   New Line Cinema|1998-08-21 00:00:00| 45000000|                  17073856|    70087718|        61095812|131183530|\n",
      "|               X-Men|  20th Century Fox|2000-07-14 00:00:00| 75000000|                  54471475|   157299717|       139039810|296339527|\n",
      "|            Blade II|   New Line Cinema|2002-03-22 00:00:00| 54000000|                  32528016|    82348319|        72661713|155010032|\n",
      "|          Spider-Man|     Sony Pictures|2002-05-03 00:00:00|139000000|                 114844116|   403706375|       418002176|821708551|\n",
      "|           Daredevil|  20th Century Fox|2003-02-14 00:00:00| 78000000|                  40310419|   102543518|        76636200|179179718|\n",
      "|                  X2|  20th Century Fox|2003-05-02 00:00:00|110000000|                  85558731|   214949694|       192761855|407711549|\n",
      "|                Hulk|Universal Pictures|2003-06-20 00:00:00|137000000|                  62128420|   132177234|       113183246|245360480|\n",
      "|        The Punisher|   Lionsgate Films|2004-04-16 00:00:00| 33000000|                  13834527|    33810189|        20889916| 54700105|\n",
      "|        Spider-Man 2|     Sony Pictures|2004-06-30 00:00:00|200000000|                  88156227|   373585825|       415390628|788976453|\n",
      "|      Blade: Trinity|   New Line Cinema|2004-12-08 00:00:00| 65000000|                  16061271|    52411906|        76493460|128905366|\n",
      "|             Elektra|  20th Century Fox|2005-01-14 00:00:00| 43000000|                  12804793|    24409722|        32271844| 56681566|\n",
      "|      Fantastic Four|  20th Century Fox|2005-07-08 00:00:00|100000000|                  56061504|   154696080|       175883639|330579719|\n",
      "|X-Men: The Last S...|  20th Century Fox|2006-05-26 00:00:00|210000000|                 102750665|   234362462|       224997093|459359555|\n",
      "|         Ghost Rider|     Sony Pictures|2007-02-16 00:00:00|110000000|                  45388836|   115802596|       112935797|228738393|\n",
      "|        Spider-Man 3|     Sony Pictures|2007-05-04 00:00:00|258000000|                 151116516|   336530303|       554341323|890871626|\n",
      "|Fantastic Four: R...|  20th Century Fox|2007-06-15 00:00:00|130000000|                  58051684|   131921738|       169991393|301913131|\n",
      "|            Iron Man|Paramount Pictures|2008-05-02 00:00:00|140000000|                  98618668|   318412101|       266762121|585174222|\n",
      "| The Incredible Hulk|Universal Pictures|2008-06-13 00:00:00|150000000|                  55414050|   134806913|       128620638|263427551|\n",
      "|  Punisher: War Zone|   Lionsgate Films|2008-12-05 00:00:00| 35000000|                   4271451|     8050977|         2049059| 10100036|\n",
      "+--------------------+------------------+-------------------+---------+--------------------------+------------+----------------+---------+\n",
      "only showing top 20 rows\n",
      "\n"
     ]
    }
   ],
   "source": [
    "from pyspark.sql import SparkSession\n",
    "from pyspark import SparkConf\n",
    "\n",
    "sparkConf = SparkConf()\n",
    "sparkConf.setMaster(\"spark://spark-master:7077\")\n",
    "sparkConf.setAppName(\"GCSMarvel\")\n",
    "sparkConf.set(\"spark.driver.memory\", \"2g\")\n",
    "sparkConf.set(\"spark.executor.cores\", \"1\")\n",
    "sparkConf.set(\"spark.driver.cores\", \"1\")\n",
    "# create the spark session, which is the entry point to Spark SQL engine.\n",
    "spark = SparkSession.builder.config(conf=sparkConf).getOrCreate()\n",
    "\n",
    "# Setup hadoop fs configuration for schema gs://\n",
    "conf = spark.sparkContext._jsc.hadoopConfiguration()\n",
    "conf.set(\"fs.gs.impl\", \"com.google.cloud.hadoop.fs.gcs.GoogleHadoopFileSystem\")\n",
    "conf.set(\"fs.AbstractFileSystem.gs.impl\", \"com.google.cloud.hadoop.fs.gcs.GoogleHadoopFS\")\n",
    "\n",
    "#  Google Storage File Path\n",
    "gsc_file_path = 'gs://marvel_data_onno/marvel_clean.csv'  #  use your gcp bucket name. Also upload sales.csv first\n",
    "# Create data frame\n",
    "df = spark.read.format(\"csv\").option(\"header\", \"true\") \\\n",
    "       .load(gsc_file_path)\n",
    "df.printSchema()\n",
    "\n",
    "newDf = df.select('Title')  # select one column\n",
    "\n",
    "newDf.show()\n",
    "\n",
    "df.show()"
   ]
  },
  {
   "cell_type": "markdown",
   "id": "9d17a1b9-a100-4fe0-8e6d-166ef7d6f374",
   "metadata": {},
   "source": [
    "# Data Preprocessing \n",
    "Pipeline 2: The pipeline is designed to find out which movies are most worth it to develop a sequel for. We aim to acquire this insight by looking into which movies have been the most profitable. This will be determined by identifying the top movies with the highest ratio of revenue to budget, just as in pipeline 1, as well as the revenue to budget delta. Firstly, this ratio and delta will be calculated, after which all movies will be sorted in descending order of these values. Finally, the top 5 movies are determined to be most worth developing a sequel for, from a financial standpoint."
   ]
  },
  {
   "cell_type": "code",
   "execution_count": null,
   "id": "79554d97-5124-4ab6-86aa-dc87c41b8564",
   "metadata": {},
   "outputs": [],
   "source": [
    "#import fucntions\n",
    "from pyspark.sql import functions as F"
   ]
  },
  {
   "cell_type": "code",
   "execution_count": null,
   "id": "8371f120-0a02-477f-be19-fdc48089b958",
   "metadata": {},
   "outputs": [
    {
     "name": "stdout",
     "output_type": "stream",
     "text": [
      "+--------------------+------------------+---------+---------+\n",
      "|               Title|       Distributor|   Budget|Worldwide|\n",
      "+--------------------+------------------+---------+---------+\n",
      "|     Howard the Duck|Universal Pictures| 37000000| 37962774|\n",
      "|               Blade|   New Line Cinema| 45000000|131183530|\n",
      "|               X-Men|  20th Century Fox| 75000000|296339527|\n",
      "|            Blade II|   New Line Cinema| 54000000|155010032|\n",
      "|          Spider-Man|     Sony Pictures|139000000|821708551|\n",
      "|           Daredevil|  20th Century Fox| 78000000|179179718|\n",
      "|                  X2|  20th Century Fox|110000000|407711549|\n",
      "|                Hulk|Universal Pictures|137000000|245360480|\n",
      "|        The Punisher|   Lionsgate Films| 33000000| 54700105|\n",
      "|        Spider-Man 2|     Sony Pictures|200000000|788976453|\n",
      "|      Blade: Trinity|   New Line Cinema| 65000000|128905366|\n",
      "|             Elektra|  20th Century Fox| 43000000| 56681566|\n",
      "|      Fantastic Four|  20th Century Fox|100000000|330579719|\n",
      "|X-Men: The Last S...|  20th Century Fox|210000000|459359555|\n",
      "|         Ghost Rider|     Sony Pictures|110000000|228738393|\n",
      "|        Spider-Man 3|     Sony Pictures|258000000|890871626|\n",
      "|Fantastic Four: R...|  20th Century Fox|130000000|301913131|\n",
      "|            Iron Man|Paramount Pictures|140000000|585174222|\n",
      "| The Incredible Hulk|Universal Pictures|150000000|263427551|\n",
      "|  Punisher: War Zone|   Lionsgate Films| 35000000| 10100036|\n",
      "+--------------------+------------------+---------+---------+\n",
      "only showing top 20 rows\n",
      "\n",
      "root\n",
      " |-- Title: string (nullable = true)\n",
      " |-- Distributor: string (nullable = true)\n",
      " |-- Budget: string (nullable = true)\n",
      " |-- Worldwide: string (nullable = true)\n",
      "\n"
     ]
    }
   ],
   "source": [
    "#Select relevant columns for budget dataframe\n",
    "budgetDF = df.select(\"Title\", \"Distributor\", \"Budget\", \"Worldwide\")\n",
    "\n",
    "budgetDF.show()\n",
    "\n",
    "budgetDF.printSchema()"
   ]
  },
  {
   "cell_type": "markdown",
   "id": "c9378b8d-b3a0-403d-aad1-b8b84fc86a33",
   "metadata": {},
   "source": [
    "## Rank based on revenue-budget ratios\n",
    "Create a dataframe for the revenue-budget ratios."
   ]
  },
  {
   "cell_type": "code",
   "execution_count": null,
   "id": "4a743708-fd29-4f3b-ad39-4049a3492c1f",
   "metadata": {},
   "outputs": [
    {
     "name": "stdout",
     "output_type": "stream",
     "text": [
      "root\n",
      " |-- Title: string (nullable = true)\n",
      " |-- Distributor: string (nullable = true)\n",
      " |-- Budget: string (nullable = true)\n",
      " |-- Worldwide: string (nullable = true)\n",
      " |-- Ratio: double (nullable = true)\n",
      "\n"
     ]
    }
   ],
   "source": [
    "#Calculate revenue/budget ratios\n",
    "ratioDF = budgetDF.withColumn(\"Ratio\", budgetDF[\"Worldwide\"]  / budgetDF[\"Budget\"]) \n",
    "\n",
    "ratioDF.printSchema()"
   ]
  },
  {
   "cell_type": "markdown",
   "id": "38e6e7b1-9b35-4af4-a491-03d895faed80",
   "metadata": {},
   "source": [
    "### Rank top 5 movies based on ratios\n",
    "We solve for: Give the name and distributor of the 5 most profitable marvel movies worldwide based on revenue/budget ratio."
   ]
  },
  {
   "cell_type": "code",
   "execution_count": null,
   "id": "cc851392-5b85-4062-a9e9-0558268bf0e4",
   "metadata": {},
   "outputs": [
    {
     "name": "stdout",
     "output_type": "stream",
     "text": [
      "+--------------------+--------------------+------------------+\n",
      "|               Title|         Distributor|             Ratio|\n",
      "+--------------------+--------------------+------------------+\n",
      "|            Deadpool|    20th Century Fox|13.501947913793103|\n",
      "|Spider-Man: No Wa...|       Sony Pictures|       9.262094295|\n",
      "|               Venom|       Sony Pictures|        8.55013954|\n",
      "|   Avengers: Endgame|Walt Disney Studi...| 7.858990348314607|\n",
      "|      Captain Marvel|Walt Disney Studi...| 7.422860486842105|\n",
      "+--------------------+--------------------+------------------+\n",
      "\n"
     ]
    }
   ],
   "source": [
    "#Extract movie title, distributor name, and ratio and sort movies in descending ratio order\n",
    "bestMoviesRatioDF = ratioDF.select(\"Title\", \"Distributor\", \"Ratio\") \\\n",
    "    .orderBy(ratioDF[\"Ratio\"].desc())\n",
    "\n",
    "#Show top 5 movies with highest ratio\n",
    "bestMoviesRatioDF.limit(5).show()"
   ]
  },
  {
   "cell_type": "markdown",
   "id": "e20685ae",
   "metadata": {},
   "source": [
    "**Conclusions**:\n",
    "- `Deadpool` seems to be the most profitable movie with a revenue/budget ratio of 13.5. \n",
    "- Both Sony Pictures and Walt Disney Studios have high profitable movies when looking at the revenue/budget ratio."
   ]
  },
  {
   "cell_type": "markdown",
   "id": "f9f99f60-6022-4a8d-8aea-380ce4f4f1b1",
   "metadata": {},
   "source": [
    "### Rank best movie per distributor based on ratios\n",
    "We solve for: Give the name of the most profitable marvel movie worldwide based on revenue/budget ratio for each distributor."
   ]
  },
  {
   "cell_type": "code",
   "execution_count": null,
   "id": "13d471d3-43bf-4ac9-b3df-168ca90b4a8f",
   "metadata": {},
   "outputs": [
    {
     "name": "stdout",
     "output_type": "stream",
     "text": [
      "+--------------------+--------------------+------------------+\n",
      "|               Title|         Distributor|             Ratio|\n",
      "+--------------------+--------------------+------------------+\n",
      "|            Deadpool|    20th Century Fox|13.501947913793103|\n",
      "|Spider-Man: No Wa...|       Sony Pictures|       9.262094295|\n",
      "|   Avengers: Endgame|Walt Disney Studi...| 7.858990348314607|\n",
      "|            Iron Man|  Paramount Pictures| 4.179815871428572|\n",
      "|               Blade|     New Line Cinema|2.9151895555555556|\n",
      "|                Hulk|  Universal Pictures| 1.790952408759124|\n",
      "|        The Punisher|     Lionsgate Films|1.6575789393939393|\n",
      "|     The New Mutants|20th Century Studios|0.7264935223880598|\n",
      "+--------------------+--------------------+------------------+\n",
      "\n"
     ]
    }
   ],
   "source": [
    "#Extract highest movie ratio for each distributor\n",
    "bestDistributorRatioDF = ratioDF.groupBy(\"Distributor\") \\\n",
    "    .agg(\n",
    "        F.max(\"Ratio\").alias(\"MaxRatio\")) \\\n",
    "    .withColumnRenamed(\"Distributor\", \"BestDist\")\n",
    "\n",
    "#Combine the max ratio with the original movie name again\n",
    "bestMovieDistributorRatioDF = bestDistributorRatioDF.join(ratioDF, (ratioDF.Distributor == bestDistributorRatioDF.BestDist) & \n",
    "         (ratioDF.Ratio == bestDistributorRatioDF.MaxRatio)) \\\n",
    "        .select( \"Title\", \"Distributor\", \"Ratio\") \\\n",
    "        .orderBy(F.desc(\"Ratio\"))\n",
    "\n",
    "bestMovieDistributorRatioDF.show()"
   ]
  },
  {
   "cell_type": "markdown",
   "id": "995e8d0b",
   "metadata": {},
   "source": [
    "**Conclusions**:\n",
    "- Based on the previous results, we could already see 20th Century Fox, Sony Pictures and Walt Disney Studios are the best distributors.\n",
    "- Universal Pictures and Lionsgate are the least profitable, while 20th Century Studios only makes losses."
   ]
  },
  {
   "cell_type": "markdown",
   "id": "0d354205-a2c8-4ce1-b0e1-88a5d3bea26c",
   "metadata": {},
   "source": [
    "## Rank based on revenue-budget delta\n",
    "Create a dataframe for the revenue-budget deltas."
   ]
  },
  {
   "cell_type": "code",
   "execution_count": null,
   "id": "f78da3a5-e104-47b7-a241-5abd5e39fe39",
   "metadata": {},
   "outputs": [
    {
     "name": "stdout",
     "output_type": "stream",
     "text": [
      "root\n",
      " |-- Title: string (nullable = true)\n",
      " |-- Distributor: string (nullable = true)\n",
      " |-- Budget: string (nullable = true)\n",
      " |-- Worldwide: string (nullable = true)\n",
      " |-- Delta: double (nullable = true)\n",
      "\n"
     ]
    }
   ],
   "source": [
    "#Calculate revenue/budget delta\n",
    "deltaDF = budgetDF.withColumn(\"Delta\", budgetDF[\"Worldwide\"]  - budgetDF[\"Budget\"]) \n",
    "\n",
    "deltaDF.printSchema()"
   ]
  },
  {
   "cell_type": "markdown",
   "id": "5ca82d8d-3709-4e97-bd32-5f2b750b4008",
   "metadata": {},
   "source": [
    "### Rank top 5 movies based on deltas\n",
    "We solve for: Give the name and distributor of the 5 most profitable marvel movies worldwide based on revenue/budget delta."
   ]
  },
  {
   "cell_type": "code",
   "execution_count": null,
   "id": "eaf9a9b4-eba4-4097-bbac-2efa9ec413c4",
   "metadata": {},
   "outputs": [
    {
     "name": "stdout",
     "output_type": "stream",
     "text": [
      "+--------------------+--------------------+-------------+\n",
      "|               Title|         Distributor|        Delta|\n",
      "+--------------------+--------------------+-------------+\n",
      "|   Avengers: Endgame|Walt Disney Studi...|2.441800564E9|\n",
      "|Avengers: Infinit...|Walt Disney Studi...|1.732359754E9|\n",
      "|Spider-Man: No Wa...|       Sony Pictures|1.652418859E9|\n",
      "|        The Avengers|Walt Disney Studi...|1.298812988E9|\n",
      "|Avengers: Age of ...|Walt Disney Studi...|1.155403694E9|\n",
      "+--------------------+--------------------+-------------+\n",
      "\n"
     ]
    }
   ],
   "source": [
    "#Extract movie title, distributor name, and delta and sort movies in descending delta order\n",
    "bestMoviesDeltaDF = deltaDF.select(\"Title\", \"Distributor\", \"Delta\") \\\n",
    "    .orderBy(deltaDF[\"Delta\"].desc())\n",
    "\n",
    "#Show top 5 movies with highest delta\n",
    "bestMoviesDeltaDF.limit(5).show()"
   ]
  },
  {
   "cell_type": "markdown",
   "id": "68d59559",
   "metadata": {},
   "source": [
    "**Conclusions**:\n",
    "- Avengers movies from Walt Disney Studios are very popular and thus makes billions of profit."
   ]
  },
  {
   "cell_type": "markdown",
   "id": "e2a9abd1-f610-415f-92bd-34efad5f6a9d",
   "metadata": {},
   "source": [
    "### Rank best movie per distributor based on deltas\n",
    "We solve for: Give the name of the most profitable marvel movie worldwide based on revenue/budget delta for each distributor."
   ]
  },
  {
   "cell_type": "code",
   "execution_count": null,
   "id": "cc066e05-7c53-4c24-bfd0-91f4bbf5940f",
   "metadata": {},
   "outputs": [
    {
     "name": "stdout",
     "output_type": "stream",
     "text": [
      "+--------------------+--------------------+-------------+\n",
      "|               Title|         Distributor|        Delta|\n",
      "+--------------------+--------------------+-------------+\n",
      "|   Avengers: Endgame|Walt Disney Studi...|2.441800564E9|\n",
      "|Spider-Man: No Wa...|       Sony Pictures|1.652418859E9|\n",
      "|            Deadpool|    20th Century Fox| 7.25112979E8|\n",
      "|            Iron Man|  Paramount Pictures| 4.45174222E8|\n",
      "| The Incredible Hulk|  Universal Pictures| 1.13427551E8|\n",
      "|            Blade II|     New Line Cinema| 1.01010032E8|\n",
      "|        The Punisher|     Lionsgate Films|  2.1700105E7|\n",
      "|            Inhumans|  IMAX Entertainment|    2852282.0|\n",
      "|     The New Mutants|20th Century Studios| -1.8324934E7|\n",
      "+--------------------+--------------------+-------------+\n",
      "\n"
     ]
    }
   ],
   "source": [
    "#Extract highest movie delta for each distributor\n",
    "bestDistributorDeltaDF = deltaDF.groupBy(\"Distributor\") \\\n",
    "    .agg(\n",
    "        F.max(\"Delta\").alias(\"MaxDelta\")) \\\n",
    "    .withColumnRenamed(\"Distributor\", \"BestDist\")\n",
    "\n",
    "#Combine the max delta with the original movie name again\n",
    "bestMovieDistributorDeltaDF = bestDistributorDeltaDF.join(deltaDF, (deltaDF.Distributor == bestDistributorDeltaDF.BestDist) & \n",
    "         (deltaDF.Delta == bestDistributorDeltaDF.MaxDelta)) \\\n",
    "        .select( \"Title\", \"Distributor\", \"Delta\") \\\n",
    "        .orderBy(F.desc(\"Delta\"))\n",
    "\n",
    "bestMovieDistributorDeltaDF.show()"
   ]
  },
  {
   "cell_type": "markdown",
   "id": "c072fd5b",
   "metadata": {},
   "source": [
    "**Conclusions**:\n",
    "- Based on previous and current results, we could conclude Walt Disney Studios and Sony Pictures are the most succesfull distributors with the highest revenue/budget ratios and deltas.\n",
    "- 20th Century Studios makes more than 18 million in losses."
   ]
  },
  {
   "cell_type": "markdown",
   "id": "844e5285-7314-4127-8262-15ebf4cc1de8",
   "metadata": {},
   "source": [
    "# Save Processed data in BigQuery"
   ]
  },
  {
   "cell_type": "code",
   "execution_count": null,
   "id": "8ab257e6-485a-4157-8753-2d1a98ecdb72",
   "metadata": {},
   "outputs": [
    {
     "name": "stdout",
     "output_type": "stream",
     "text": [
      "root\n",
      " |-- Title: string (nullable = true)\n",
      " |-- Distributor: string (nullable = true)\n",
      " |-- Ratio: double (nullable = true)\n",
      " |-- Delta: double (nullable = true)\n",
      "\n"
     ]
    }
   ],
   "source": [
    "# Merge ratios and deltas of movies in one dataframe for dashboard\n",
    "mergedDF = bestMoviesRatioDF.join(bestMoviesDeltaDF['Title', 'Delta'], 'Title', 'inner')\n",
    "mergedDF.printSchema()"
   ]
  },
  {
   "cell_type": "code",
   "execution_count": 12,
   "id": "2e8a4950-0b94-4da3-b69a-698ab99d7ae2",
   "metadata": {},
   "outputs": [],
   "source": [
    "# Use the Cloud Storage bucket for temporary BigQuery export data used by the connector.\n",
    "bucket = \"marvel_temp_onno\"  # use your bucket \n",
    "spark.conf.set('temporaryGcsBucket', bucket)\n",
    "# Setup hadoop fs configuration for schema gs://\n",
    "conf = spark.sparkContext._jsc.hadoopConfiguration()\n",
    "conf.set(\"fs.gs.impl\", \"com.google.cloud.hadoop.fs.gcs.GoogleHadoopFileSystem\")\n",
    "conf.set(\"fs.AbstractFileSystem.gs.impl\", \"com.google.cloud.hadoop.fs.gcs.GoogleHadoopFS\")\n",
    "# Saving the data to BigQuery\n",
    "mergedDF.write.format('bigquery').option('table', 'gothic-talent-435511-s2.marvel.sequel').mode(\"append\").save() "
   ]
  },
  {
   "cell_type": "code",
   "execution_count": 13,
   "id": "5fb2e5f4-df3a-4147-98a7-f236f3a7f0fa",
   "metadata": {},
   "outputs": [],
   "source": [
    "spark.stop()"
   ]
  }
 ],
 "metadata": {
  "kernelspec": {
   "display_name": "Python 3 (ipykernel)",
   "language": "python",
   "name": "python3"
  },
  "language_info": {
   "codemirror_mode": {
    "name": "ipython",
    "version": 3
   },
   "file_extension": ".py",
   "mimetype": "text/x-python",
   "name": "python",
   "nbconvert_exporter": "python",
   "pygments_lexer": "ipython3",
   "version": "3.11.6"
  }
 },
 "nbformat": 4,
 "nbformat_minor": 5
}
