{
 "cells": [
  {
   "cell_type": "markdown",
   "id": "4336a42b-c49e-4f89-a256-e398f8918864",
   "metadata": {},
   "source": [
    "# Start Spark Session & Import data form Google Cloud Bucket"
   ]
  },
  {
   "cell_type": "code",
   "execution_count": 1,
   "id": "d80fb863-c3a9-4d25-b4a0-4da22aeead7a",
   "metadata": {},
   "outputs": [
    {
     "name": "stdout",
     "output_type": "stream",
     "text": [
      "root\n",
      " |-- Title: string (nullable = true)\n",
      " |-- Distributor(s): string (nullable = true)\n",
      " |-- Release date(United States): string (nullable = true)\n",
      " |-- Bud�get (mil�lions): string (nullable = true)\n",
      " |-- Opening weekend(North America): string (nullable = true)\n",
      " |-- North America: string (nullable = true)\n",
      " |-- Other territories: string (nullable = true)\n",
      " |-- Worldwide: string (nullable = true)\n",
      "\n",
      "+--------------------+\n",
      "|               Title|\n",
      "+--------------------+\n",
      "|     Howard the Duck|\n",
      "|               Blade|\n",
      "|               X-Men|\n",
      "|            Blade II|\n",
      "|          Spider-Man|\n",
      "|           Daredevil|\n",
      "|                  X2|\n",
      "|                Hulk|\n",
      "|        The Punisher|\n",
      "|        Spider-Man 2|\n",
      "|      Blade: Trinity|\n",
      "|             Elektra|\n",
      "|      Fantastic Four|\n",
      "|X-Men: The Last S...|\n",
      "|         Ghost Rider|\n",
      "|        Spider-Man 3|\n",
      "|Fantastic Four: R...|\n",
      "|            Iron Man|\n",
      "| The Incredible Hulk|\n",
      "|  Punisher: War Zone|\n",
      "+--------------------+\n",
      "only showing top 20 rows\n",
      "\n",
      "+--------------------+------------------+---------------------------+-------------------+------------------------------+-------------+-----------------+----------+\n",
      "|               Title|    Distributor(s)|Release date(United States)|Bud�get (mil�lions)|Opening weekend(North America)|North America|Other territories| Worldwide|\n",
      "+--------------------+------------------+---------------------------+-------------------+------------------------------+-------------+-----------------+----------+\n",
      "|     Howard the Duck|Universal Pictures|              August 1 1986|                $37|                      $5070136|    $16295774|        $21667000| $37962774|\n",
      "|               Blade|   New Line Cinema|             August 21 1998|                $45|                     $17073856|    $70087718|        $61095812|$131183530|\n",
      "|               X-Men|  20th Century Fox|               July 14 2000|                $75|                     $54471475|   $157299717|       $139039810|$296339527|\n",
      "|            Blade II|   New Line Cinema|              March 22 2002|                $54|                     $32528016|    $82348319|        $72661713|$155010032|\n",
      "|          Spider-Man|     Sony Pictures|                 May 3 2002|               $139|                    $114844116|   $403706375|       $418002176|$821708551|\n",
      "|           Daredevil|  20th Century Fox|           February 14 2003|                $78|                     $40310419|   $102543518|        $76636200|$179179718|\n",
      "|                  X2|  20th Century Fox|                 May 2 2003|               $110|                     $85558731|   $214949694|       $192761855|$407711549|\n",
      "|                Hulk|Universal Pictures|               June 20 2003|               $137|                     $62128420|   $132177234|       $113183246|$245360480|\n",
      "|        The Punisher|   Lionsgate Films|              April 16 2004|                $33|                     $13834527|    $33810189|        $20889916| $54700105|\n",
      "|        Spider-Man 2|     Sony Pictures|               June 30 2004|               $200|                     $88156227|   $373585825|       $415390628|$788976453|\n",
      "|      Blade: Trinity|   New Line Cinema|            December 8 2004|                $65|                     $16061271|    $52411906|        $76493460|$128905366|\n",
      "|             Elektra|  20th Century Fox|            January 14 2005|                $43|                     $12804793|    $24409722|        $32271844| $56681566|\n",
      "|      Fantastic Four|  20th Century Fox|                July 8 2005|               $100|                     $56061504|   $154696080|       $175883639|$330579719|\n",
      "|X-Men: The Last S...|  20th Century Fox|                May 26 2006|               $210|                    $102750665|   $234362462|       $224997093|$459359555|\n",
      "|         Ghost Rider|     Sony Pictures|           February 16 2007|               $110|                     $45388836|   $115802596|       $112935797|$228738393|\n",
      "|        Spider-Man 3|     Sony Pictures|                 May 4 2007|               $258|                    $151116516|   $336530303|       $554341323|$890871626|\n",
      "|Fantastic Four: R...|  20th Century Fox|               June 15 2007|               $130|                     $58051684|   $131921738|       $169991393|$301913131|\n",
      "|            Iron Man|Paramount Pictures|                 May 2 2008|               $140|                     $98618668|   $318412101|       $266762121|$585174222|\n",
      "| The Incredible Hulk|Universal Pictures|               June 13 2008|               $150|                     $55414050|   $134806913|       $128620638|$263427551|\n",
      "|  Punisher: War Zone|   Lionsgate Films|            December 5 2008|                $35|                      $4271451|     $8050977|         $2049059| $10100036|\n",
      "+--------------------+------------------+---------------------------+-------------------+------------------------------+-------------+-----------------+----------+\n",
      "only showing top 20 rows\n",
      "\n"
     ]
    }
   ],
   "source": [
    "from pyspark.sql import SparkSession\n",
    "from pyspark import SparkConf\n",
    "\n",
    "sparkConf = SparkConf()\n",
    "sparkConf.setMaster(\"spark://spark-master:7077\")\n",
    "sparkConf.setAppName(\"GCSMarvel\")\n",
    "sparkConf.set(\"spark.driver.memory\", \"2g\")\n",
    "sparkConf.set(\"spark.executor.cores\", \"1\")\n",
    "sparkConf.set(\"spark.driver.cores\", \"1\")\n",
    "# create the spark session, which is the entry point to Spark SQL engine.\n",
    "spark = SparkSession.builder.config(conf=sparkConf).getOrCreate()\n",
    "\n",
    "# Setup hadoop fs configuration for schema gs://\n",
    "conf = spark.sparkContext._jsc.hadoopConfiguration()\n",
    "conf.set(\"fs.gs.impl\", \"com.google.cloud.hadoop.fs.gcs.GoogleHadoopFileSystem\")\n",
    "conf.set(\"fs.AbstractFileSystem.gs.impl\", \"com.google.cloud.hadoop.fs.gcs.GoogleHadoopFS\")\n",
    "\n",
    "#  Google Storage File Path\n",
    "gsc_file_path = 'gs://marvel_data/marvel.csv'  #  use your gcp bucket name. Also upload sales.csv first\n",
    "# Create data frame\n",
    "df = spark.read.format(\"csv\").option(\"header\", \"true\") \\\n",
    "       .load(gsc_file_path)\n",
    "df.printSchema()\n",
    "\n",
    "newDf = df.select('Title')  # select one column\n",
    "\n",
    "newDf.show()\n",
    "\n",
    "df.show()"
   ]
  },
  {
   "cell_type": "markdown",
   "id": "9d17a1b9-a100-4fe0-8e6d-166ef7d6f374",
   "metadata": {},
   "source": [
    "# Data Preprocessing "
   ]
  },
  {
   "cell_type": "code",
   "execution_count": null,
   "id": "8371f120-0a02-477f-be19-fdc48089b958",
   "metadata": {},
   "outputs": [],
   "source": []
  },
  {
   "cell_type": "markdown",
   "id": "844e5285-7314-4127-8262-15ebf4cc1de8",
   "metadata": {},
   "source": [
    "# Save Processed data in BigQuery"
   ]
  },
  {
   "cell_type": "code",
   "execution_count": null,
   "id": "2e8a4950-0b94-4da3-b69a-698ab99d7ae2",
   "metadata": {},
   "outputs": [],
   "source": [
    "# Use the Cloud Storage bucket for temporary BigQuery export data used by the connector.\n",
    "bucket = \"marvel_temp\"  # use your bucket \n",
    "spark.conf.set('temporaryGcsBucket', bucket)\n",
    "# Setup hadoop fs configuration for schema gs://\n",
    "conf = spark.sparkContext._jsc.hadoopConfiguration()\n",
    "conf.set(\"fs.gs.impl\", \"com.google.cloud.hadoop.fs.gcs.GoogleHadoopFileSystem\")\n",
    "conf.set(\"fs.AbstractFileSystem.gs.impl\", \"com.google.cloud.hadoop.fs.gcs.GoogleHadoopFS\")\n",
    "# Saving the data to BigQuery\n",
    "df.write.format('bigquery') \\\n",
    "  .option('table', 'endless-mile-435507-h9.marvel.processed_data') \\ # Change the project name before marvel to yours! You can find this when you click on DE2024\n",
    "  .mode(\"append\") \\\n",
    "  .save()"
   ]
  }
 ],
 "metadata": {
  "kernelspec": {
   "display_name": "Python 3 (ipykernel)",
   "language": "python",
   "name": "python3"
  },
  "language_info": {
   "codemirror_mode": {
    "name": "ipython",
    "version": 3
   },
   "file_extension": ".py",
   "mimetype": "text/x-python",
   "name": "python",
   "nbconvert_exporter": "python",
   "pygments_lexer": "ipython3",
   "version": "3.11.6"
  }
 },
 "nbformat": 4,
 "nbformat_minor": 5
}
